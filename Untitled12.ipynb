{
  "nbformat": 4,
  "nbformat_minor": 0,
  "metadata": {
    "colab": {
      "name": "Untitled12.ipynb",
      "provenance": [],
      "authorship_tag": "ABX9TyNVwe6XJSaoDuTDnHRIQKZv",
      "include_colab_link": true
    },
    "kernelspec": {
      "name": "python3",
      "display_name": "Python 3"
    },
    "language_info": {
      "name": "python"
    }
  },
  "cells": [
    {
      "cell_type": "markdown",
      "metadata": {
        "id": "view-in-github",
        "colab_type": "text"
      },
      "source": [
        "<a href=\"https://colab.research.google.com/github/suaJeong-777/AndroidStudy/blob/main/Untitled12.ipynb\" target=\"_parent\"><img src=\"https://colab.research.google.com/assets/colab-badge.svg\" alt=\"Open In Colab\"/></a>"
      ]
    },
    {
      "cell_type": "code",
      "execution_count": null,
      "metadata": {
        "id": "GZHbpxggSvhi"
      },
      "outputs": [],
      "source": [
        "T = int(input())\n",
        "\n",
        "for a in range(1, T + 1):\n",
        "    N, M = map(int, input().split())\n",
        "    paris = [list(map(int, input().split())) for _ in range(N)]\n",
        "    max_sum = 0  # 최대 합 저장할 변수\n",
        "    for i in range(N):\n",
        "        if i + M > N:\n",
        "            break\n",
        "        for j in range(N):\n",
        "            sum_array = []\n",
        "            if j + M > N:\n",
        "                break\n",
        "            for k in range(i, i + M):\n",
        "                for h in range(j, j + M):\n",
        "                    sum_array.append(paris[k][h])\n",
        "            if max_sum < sum(sum_array):\n",
        "                max_sum = sum(sum_array)\n",
        "    print(f'#{a} {max_sum}')"
      ]
    }
  ]
}